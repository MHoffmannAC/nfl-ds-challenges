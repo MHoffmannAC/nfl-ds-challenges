{
    "cells": [
      {
        "cell_type": "markdown",
        "metadata": {},
        "source": [
          "# Pandas NFL Data Analysis Exercises\n",
          "\n",
          "Welcome to the final session of your Pandas training! This notebook is designed to help you recap and deepen your knowledge of fundamental Pandas operations through a series of hands-on exercises, all centered around NFL (National Football League) data. Get ready to tackle some data!\n",
          "\n",
          "The exercises are structured to gradually increase in complexity. Don't worry if you get stuck; there are hints and solutions available (hidden, so try to solve it first!).\n",
          "\n",
          "Let's start by importing `pandas` and setting up our environment, including generating our synthetic data."
        ]
      },
      {
        "cell_type": "code",
        "execution_count": null,
        "metadata": {},
        "outputs": [],
        "source": [
          "import pandas as pd\n",
          "import numpy as np\n",
          "\n",
          "# Set display options for better viewing\n",
          "pd.set_option('display.max_columns', None)\n",
          "pd.set_option('display.width', 1000)\n",
          "print(\"Pandas and necessary libraries imported. Display options set.\")\n",
          "\n",
          "# --- Generate synthetic Player Data ----\n",
          "np.random.seed(42) # Seed for player data generation\n",
          "num_players = 100\n",
          "teams = ['Patriots', 'Chiefs', 'Eagles', '49ers', 'Cowboys', 'Packers', 'Bills', 'Dolphins', 'Saints', 'Steelers']\n",
          "positions = ['QB', 'RB', 'WR', 'TE', 'OL', 'DL', 'LB', 'CB', 'S', 'K', 'P']\n",
          "colleges = ['Alabama', 'Ohio State', 'Georgia', 'LSU', 'Clemson', 'Notre Dame', 'Michigan', 'USC', 'Texas A&M', 'Florida']\n",
          "\n",
          "player_data = {\n",
          "    'player_id': [f'P{i:03d}' for i in range(1, num_players + 1)],\n",
          "    'name': [f'Player {i}' for i in range(1, num_players + 1)],\n",
          "    'team': np.random.choice(teams, num_players),\n",
          "    'position': np.random.choice(positions, num_players, p=[0.1, 0.1, 0.15, 0.08, 0.15, 0.1, 0.1, 0.07, 0.07, 0.04, 0.04]),\n",
          "    'draft_year': np.random.randint(2015, 2025, num_players),\n",
          "    'college': np.random.choice(colleges, num_players)\n",
          "}\n",
          "players_df = pd.DataFrame(player_data)\n",
          "print(\"players_df created.\")\n",
          "\n",
          "# --- Generate synthetic Game Data ---\n",
          "np.random.seed(43) # Seed for game data generation\n",
          "num_games = 200\n",
          "game_data = {\n",
          "    'game_id': [f'G{i:04d}' for i in range(1, num_games + 1)],\n",
          "    'season': np.random.choice([2022, 2023, 2024], num_games),\n",
          "    'week': np.random.randint(1, 19, num_games),\n",
          "    'home_team': np.random.choice(teams, num_games),\n",
          "    'away_team': np.random.choice(teams, num_games),\n",
          "    'home_score': np.random.randint(10, 45, num_games),\n",
          "    'away_score': np.random.randint(7, 40, num_games),\n",
          "    'date': pd.to_datetime(pd.date_range(start='2022-09-01', periods=num_games, freq='W')) # Simplified dates\n",
          "}\n",
          "games_df = pd.DataFrame(game_data)\n",
          "\n",
          "# Ensure home_team != away_team\n",
          "for i in range(num_games):\n",
          "    while games_df.loc[i, 'home_team'] == games_df.loc[i, 'away_team']:\n",
          "        games_df.loc[i, 'away_team'] = np.random.choice(teams)\n",
          "print(\"games_df created.\")\n",
          "\n",
          "# --- Generate synthetic Player Stats Data ---\n",
          "np.random.seed(44) # Seed for player stats data generation\n",
          "stat_rows = []\n",
          "for _ in range(num_games * 5): # Roughly 5 players per game with stats\n",
          "    game_id = np.random.choice(games_df['game_id'])\n",
          "    player_id = np.random.choice(players_df['player_id'])\n",
          "\n",
          "    # Ensure a QB is picked for passing stats\n",
          "    if players_df[players_df['player_id'] == player_id]['position'].iloc[0] == 'QB':\n",
          "        passing_yards = np.random.randint(50, 400)\n",
          "        interceptions = np.random.randint(0, 3)\n",
          "        sacks_allowed = np.random.randint(0, 5) # For OL\n",
          "    else:\n",
          "        passing_yards = 0\n",
          "        interceptions = 0\n",
          "        sacks_allowed = 0\n",
          "\n",
          "    # Ensure RBs get rushing yards\n",
          "    if players_df[players_df['player_id'] == player_id]['position'].iloc[0] == 'RB':\n",
          "        rushing_yards = np.random.randint(0, 200)\n",
          "    else:\n",
          "        rushing_yards = 0\n",
          "\n",
          "    # Ensure WRs/TEs get receiving yards\n",
          "    if players_df[players_df['player_id'] == player_id]['position'].iloc[0] in ['WR', 'TE', 'RB']:\n",
          "        receiving_yards = np.random.randint(0, 150)\n",
          "    else:\n",
          "        receiving_yards = 0\n",
          "\n",
          "    # Sacks made (for DL/LB)\n",
          "    if players_df[players_df['player_id'] == player_id]['position'].iloc[0] in ['DL', 'LB']:\n",
          "        sacks_made = np.random.randint(0, 3)\n",
          "    else:\n",
          "        sacks_made = 0\n",
          "\n",
          "    touchdowns = np.random.randint(0, 4)\n",
          "\n",
          "    stat_rows.append({\n",
          "        'game_id': game_id,\n",
          "        'player_id': player_id,\n",
          "        'passing_yards': passing_yards,\n",
          "        'rushing_yards': rushing_yards,\n",
          "        'receiving_yards': receiving_yards,\n",
          "        'sacks_made': sacks_made, # Sacks by defensive players\n",
          "        'interceptions_thrown': interceptions, # Interceptions by QB\n",
          "        'touchdowns': touchdowns\n",
          "    })\n",
          "player_stats_df = pd.DataFrame(stat_rows)\n",
          "print(\"player_stats_df created.\")"
        ]
      },
      {
        "cell_type": "markdown",
        "metadata": {},
        "source": [
          "## Exercises"
        ]
      },
      {
        "cell_type": "markdown",
        "metadata": {},
        "source": [
          "### Exercise 1: Series and DataFrame Creation"
        ]
      },
      {
        "cell_type": "markdown",
        "metadata": {},
        "source": [
          "#### Task 1: Create a Pandas Series named `favorite_teams` containing your top 3 NFL teams (as strings)."
        ]
      },
      {
        "cell_type": "code",
        "execution_count": null,
        "metadata": {},
        "outputs": [],
        "source": [
          "#Place your code here"
        ]
      },
      {
        "cell_type": "markdown",
        "metadata": {},
        "source": [
          "##### Hint\n",
          "<details>\n",
          "<summary>Click to reveal hint</summary>\n",
          "\n",
          "Use `pd.Series()`.\n",
          "</details>"
        ]
      },
      {
        "cell_type": "markdown",
        "metadata": {},
        "source": [
          "##### Solution"
        ]
      },
      {
        "cell_type": "code",
        "execution_count": null,
        "metadata": {},
        "outputs": [],
        "source": [
          "favorite_teams = pd.Series(['Kansas City Chiefs', 'Green Bay Packers', 'Philadelphia Eagles'], name='Favorite NFL Teams')\n",
          "print(\"\\nFavorite Teams Series:\\n\", favorite_teams)"
        ]
      },
      {
        "cell_type": "markdown",
        "metadata": {},
        "source": [
          "#### Task 2: Create a DataFrame named `example_data_df` with three columns: `Fruit`, `Quantity`, and `Price`. Populate it with at least 4 rows of sample data (e.g., 'Apple', 10, 1.20)."
        ]
      },
      {
        "cell_type": "code",
        "execution_count": null,
        "metadata": {},
        "outputs": [],
        "source": [
          "#Place your code here"
        ]
      },
      {
        "cell_type": "markdown",
        "metadata": {},
        "source": [
          "##### Hint\n",
          "<details>\n",
          "<summary>Click to reveal hint</summary>\n",
          "\n",
          "Use `pd.DataFrame()` and pass a dictionary where keys are column names and values are lists of data.\n",
          "</details>"
        ]
      },
      {
        "cell_type": "markdown",
        "metadata": {},
        "source": [
          "##### Solution"
        ]
      },
      {
        "cell_type": "code",
        "execution_count": null,
        "metadata": {},
        "outputs": [],
        "source": [
          "example_data_df = pd.DataFrame({\n",
          "    'Fruit': ['Apple', 'Banana', 'Orange', 'Grape'],\n",
          "    'Quantity': [10, 15, 8, 20],\n",
          "    'Price': [1.20, 0.75, 1.50, 2.00]\n",
          "})\n",
          "print(\"\\nExample Data DataFrame:\\n\", example_data_df)"
        ]
      },
      {
        "cell_type": "markdown",
        "metadata": {},
        "source": [
          "### Exercise 2: Initial Exploration"
        ]
      },
      {
        "cell_type": "markdown",
        "metadata": {},
        "source": [
          "Using the already created `players_df`:"
        ]
      },
      {
        "cell_type": "markdown",
        "metadata": {},
        "source": [
          "#### Task 1: Display the first 5 rows of `players_df`."
        ]
      },
      {
        "cell_type": "code",
        "execution_count": null,
        "metadata": {},
        "outputs": [],
        "source": [
          "#Place your code here"
        ]
      },
      {
        "cell_type": "markdown",
        "metadata": {},
        "source": [
          "##### Hint\n",
          "<details>\n",
          "<summary>Click to reveal hint</summary>\n",
          "\n",
          "Use the `.head()` method.\n",
          "</details>"
        ]
      },
      {
        "cell_type": "markdown",
        "metadata": {},
        "source": [
          "##### Solution"
        ]
      },
      {
        "cell_type": "code",
        "execution_count": null,
        "metadata": {},
        "outputs": [],
        "source": [
          "print(\"\\nFirst 5 rows of players_df:\\n\", players_df.head())"
        ]
      },
      {
        "cell_type": "markdown",
        "metadata": {},
        "source": [
          "#### Task 2: Get a concise summary of the DataFrame, including data types and non-null values."
        ]
      },
      {
        "cell_type": "code",
        "execution_count": null,
        "metadata": {},
        "outputs": [],
        "source": [
          "#Place your code here"
        ]
      },
      {
        "cell_type": "markdown",
        "metadata": {},
        "source": [
          "##### Hint\n",
          "<details>\n",
          "<summary>Click to reveal hint</summary>\n",
          "\n",
          "Use the `.info()` method.\n",
          "</details>"
        ]
      },
      {
        "cell_type": "markdown",
        "metadata": {},
        "source": [
          "##### Solution"
        ]
      },
      {
        "cell_type": "code",
        "execution_count": null,
        "metadata": {},
        "outputs": [],
        "source": [
          "print(\"\\nInfo about players_df:\")\n",
          "players_df.info()"
        ]
      },
      {
        "cell_type": "markdown",
        "metadata": {},
        "source": [
          "#### Task 3: Display the dimensions (number of rows and columns) of `players_df`."
        ]
      },
      {
        "cell_type": "code",
        "execution_count": null,
        "metadata": {},
        "outputs": [],
        "source": [
          "#Place your code here"
        ]
      },
      {
        "cell_type": "markdown",
        "metadata": {},
        "source": [
          "##### Hint\n",
          "<details>\n",
          "<summary>Click to reveal hint</summary>\n",
          "\n",
          "Use the `.shape` attribute.\n",
          "</details>"
        ]
      },
      {
        "cell_type": "markdown",
        "metadata": {},
        "source": [
          "##### Solution"
        ]
      },
      {
        "cell_type": "code",
        "execution_count": null,
        "metadata": {},
        "outputs": [],
        "source": [
          "print(\"\\nShape of players_df:\", players_df.shape)"
        ]
      },
      {
        "cell_type": "markdown",
        "metadata": {},
        "source": [
          "#### Task 4: Show descriptive statistics for numerical columns."
        ]
      },
      {
        "cell_type": "code",
        "execution_count": null,
        "metadata": {},
        "outputs": [],
        "source": [
          "#Place your code here"
        ]
      },
      {
        "cell_type": "markdown",
        "metadata": {},
        "source": [
          "##### Hint\n",
          "<details>\n",
          "<summary>Click to reveal hint</summary>\n",
          "\n",
          "Use the `.describe()` method.\n",
          "</details>"
        ]
      },
      {
        "cell_type": "markdown",
        "metadata": {},
        "source": [
          "##### Solution"
        ]
      },
      {
        "cell_type": "code",
        "execution_count": null,
        "metadata": {},
        "outputs": [],
        "source": [
          "print(\"\\nDescriptive statistics for players_df:\\n\", players_df.describe())"
        ]
      },
      {
        "cell_type": "markdown",
        "metadata": {},
        "source": [
          "#### Task 5: Display all column names."
        ]
      },
      {
        "cell_type": "code",
        "execution_count": null,
        "metadata": {},
        "outputs": [],
        "source": [
          "#Place your code here"
        ]
      },
      {
        "cell_type": "markdown",
        "metadata": {},
        "source": [
          "##### Hint\n",
          "<details>\n",
          "<summary>Click to reveal hint</summary>\n",
          "\n",
          "Use the `.columns` attribute, optionally converting to a list.\n",
          "</details>"
        ]
      },
      {
        "cell_type": "markdown",
        "metadata": {},
        "source": [
          "##### Solution"
        ]
      },
      {
        "cell_type": "code",
        "execution_count": null,
        "metadata": {},
        "outputs": [],
        "source": [
          "print(\"\\nColumns in players_df:\", players_df.columns.tolist())"
        ]
      },
      {
        "cell_type": "markdown",
        "metadata": {},
        "source": [
          "#### Task 6: Check for any missing values in each column and show the count of missing values."
        ]
      },
      {
        "cell_type": "code",
        "execution_count": null,
        "metadata": {},
        "outputs": [],
        "source": [
          "#Place your code here"
        ]
      },
      {
        "cell_type": "markdown",
        "metadata": {},
        "source": [
          "##### Hint\n",
          "<details>\n",
          "<summary>Click to reveal hint</summary>\n",
          "\n",
          "Use `.isnull().sum()`.\n",
          "</details>"
        ]
      },
      {
        "cell_type": "markdown",
        "metadata": {},
        "source": [
          "##### Solution"
        ]
      },
      {
        "cell_type": "code",
        "execution_count": null,
        "metadata": {},
        "outputs": [],
        "source": [
          "print(\"\\nMissing values in players_df:\\n\", players_df.isnull().sum())"
        ]
      },
      {
        "cell_type": "markdown",
        "metadata": {},
        "source": [
          "### Exercise 3: Indexing and Selection Basics"
        ]
      },
      {
        "cell_type": "markdown",
        "metadata": {},
        "source": [
          "#### Task 1: Select the 'name' and 'position' columns from `players_df` using bracket notation `[]` and display the first 5 rows."
        ]
      },
      {
        "cell_type": "code",
        "execution_count": null,
        "metadata": {},
        "outputs": [],
        "source": [
          "#Place your code here"
        ]
      },
      {
        "cell_type": "markdown",
        "metadata": {},
        "source": [
          "##### Hint\n",
          "<details>\n",
          "<summary>Click to reveal hint</summary>\n",
          "\n",
          "For multiple columns, pass a list of column names to `[]`.\n",
          "</details>"
        ]
      },
      {
        "cell_type": "markdown",
        "metadata": {},
        "source": [
          "##### Solution"
        ]
      },
      {
        "cell_type": "code",
        "execution_count": null,
        "metadata": {},
        "outputs": [],
        "source": [
          "name_position = players_df[['name', 'position']]\n",
          "print(\"\\nName and Position columns (first 5 rows):\\n\", name_position.head())"
        ]
      },
      {
        "cell_type": "markdown",
        "metadata": {},
        "source": [
          "#### Task 2: Select the player with `player_id` 'P007' using boolean indexing."
        ]
      },
      {
        "cell_type": "code",
        "execution_count": null,
        "metadata": {},
        "outputs": [],
        "source": [
          "#Place your code here"
        ]
      },
      {
        "cell_type": "markdown",
        "metadata": {},
        "source": [
          "##### Hint\n",
          "<details>\n",
          "<summary>Click to reveal hint</summary>\n",
          "\n",
          "Create a boolean mask inside `[]` (e.g., `df[df['column'] == value]`).\n",
          "</details>"
        ]
      },
      {
        "cell_type": "markdown",
        "metadata": {},
        "source": [
          "##### Solution"
        ]
      },
      {
        "cell_type": "code",
        "execution_count": null,
        "metadata": {},
        "outputs": [],
        "source": [
          "player_007 = players_df[players_df['player_id'] == 'P007']\n",
          "print(\"\\nDetails for Player P007:\\n\", player_007)"
        ]
      },
      {
        "cell_type": "markdown",
        "metadata": {},
        "source": [
          "#### Task 3: Using `.iloc`, select the 10th row of `players_df`."
        ]
      },
      {
        "cell_type": "code",
        "execution_count": null,
        "metadata": {},
        "outputs": [],
        "source": [
          "#Place your code here"
        ]
      },
      {
        "cell_type": "markdown",
        "metadata": {},
        "source": [
          "##### Hint\n",
          "<details>\n",
          "<summary>Click to reveal hint</summary>\n",
          "\n",
          "Remember Python uses 0-indexed positions for `.iloc`.\n",
          "</details>"
        ]
      },
      {
        "cell_type": "markdown",
        "metadata": {},
        "source": [
          "##### Solution"
        ]
      },
      {
        "cell_type": "code",
        "execution_count": null,
        "metadata": {},
        "outputs": [],
        "source": [
          "tenth_row = players_df.iloc[9] # 9 for the 10th row\n",
          "print(\"\\n10th row of players_df:\\n\", tenth_row)"
        ]
      },
      {
        "cell_type": "markdown",
        "metadata": {},
        "source": [
          "#### Task 4: Using `.loc`, select players from 'Patriots' and 'Chiefs' teams. Display their 'name', 'team', and 'position'."
        ]
      },
      {
        "cell_type": "code",
        "execution_count": null,
        "metadata": {},
        "outputs": [],
        "source": [
          "#Place your code here"
        ]
      },
      {
        "cell_type": "markdown",
        "metadata": {},
        "source": [
          "##### Hint\n",
          "<details>\n",
          "<summary>Click to reveal hint</summary>\n",
          "\n",
          "Use `.loc` with boolean indexing for rows and a list for columns. The `.isin()` method is helpful for multiple values.\n",
          "</details>"
        ]
      },
      {
        "cell_type": "markdown",
        "metadata": {},
        "source": [
          "##### Solution"
        ]
      },
      {
        "cell_type": "code",
        "execution_count": null,
        "metadata": {},
        "outputs": [],
        "source": [
          "selected_teams_players = players_df.loc[players_df['team'].isin(['Patriots', 'Chiefs']), ['name', 'team', 'position']]\n",
          "print(\"\\nPlayers from Patriots and Chiefs:\\n\", selected_teams_players.head())"
        ]
      },
      {
        "cell_type": "markdown",
        "metadata": {},
        "source": [
          "### Exercise 4: Slicing with .loc and .iloc (Trick Question Alert!)\n",
          "\n",
          "Let's create a small DataFrame with a default `RangeIndex` for this exercise."
        ]
      },
      {
        "cell_type": "code",
        "execution_count": null,
        "metadata": {},
        "outputs": [],
        "source": [
          "example_slice_df = pd.DataFrame({\n",
          "    'Item': ['A', 'B', 'C', 'D', 'E', 'F'],\n",
          "    'Value': [10, 20, 30, 40, 50, 60]\n",
          "})\n",
          "print(\"Example Slice DataFrame (with default RangeIndex):\\n\", example_slice_df)"
        ]
      },
      {
        "cell_type": "markdown",
        "metadata": {},
        "source": [
          "#### Task 1: Using `.iloc`, slice `example_slice_df` to get rows at **positions 1 through 3 (inclusive)** and all columns."
        ]
      },
      {
        "cell_type": "code",
        "execution_count": null,
        "metadata": {},
        "outputs": [],
        "source": [
          "#Place your code here"
        ]
      },
      {
        "cell_type": "markdown",
        "metadata": {},
        "source": [
          "##### Hint\n",
          "<details>\n",
          "<summary>Click to reveal hint</summary>\n",
          "\n",
          "`.iloc` uses position-based indexing, similar to standard Python list slicing, where the end is exclusive. To include position 3, you need to slice up to position 4 (`[1:4]`).\n",
          "</details>"
        ]
      },
      {
        "cell_type": "markdown",
        "metadata": {},
        "source": [
          "##### Solution"
        ]
      },
      {
        "cell_type": "code",
        "execution_count": null,
        "metadata": {},
        "outputs": [],
        "source": [
          "iloc_slice_result = example_slice_df.iloc[1:4, :]\n",
          "print(\"\\n.iloc slice (positions 1, 2, 3):\\n\", iloc_slice_result)"
        ]
      },
      {
        "cell_type": "markdown",
        "metadata": {},
        "source": [
          "#### Task 2: Using `.loc`, slice `example_slice_df` to get rows with **labels 1 through 3 (inclusive)** and the 'Value' column."
        ]
      },
      {
        "cell_type": "code",
        "execution_count": null,
        "metadata": {},
        "outputs": [],
        "source": [
          "#Place your code here"
        ]
      },
      {
        "cell_type": "markdown",
        "metadata": {},
        "source": [
          "##### Hint\n",
          "<details>\n",
          "<summary>Click to reveal hint</summary>\n",
          "\n",
          "`.loc` uses label-based indexing, where both the start and end labels are **inclusive**. So, `[1:3]` will include labels 1, 2, and 3.\n",
          "</details>"
        ]
      },
      {
        "cell_type": "markdown",
        "metadata": {},
        "source": [
          "##### Solution"
        ]
      },
      {
        "cell_type": "code",
        "execution_count": null,
        "metadata": {},
        "outputs": [],
        "source": [
          "loc_slice_result = example_slice_df.loc[1:3, 'Value']\n",
          "print(\"\\n.loc slice (labels 1, 2, 3 for 'Value'):\\n\", loc_slice_result)"
        ]
      },
      {
        "cell_type": "markdown",
        "metadata": {},
        "source": [
          "#### Task 3: **Explain the difference**: How does the end boundary behavior of slicing differ between `.iloc` and `.loc` when using numerical indices?"
        ]
      },
      {
        "cell_type": "code",
        "execution_count": null,
        "metadata": {},
        "outputs": [],
        "source": [
          "#Place your code here"
        ]
      },
      {
        "cell_type": "markdown",
        "metadata": {},
        "source": [
          "##### Hint\n",
          "<details>\n",
          "<summary>Click to reveal hint</summary>\n",
          "\n",
          "Focus on whether the end index/label is included or excluded in the slice for each method.\n",
          "</details>"
        ]
      },
      {
        "cell_type": "markdown",
        "metadata": {},
        "source": [
          "##### Solution"
        ]
      },
      {
        "cell_type": "code",
        "execution_count": null,
        "metadata": {},
        "outputs": [],
        "source": [
          "print(\"\\nExplanation of the difference:\")\n",
          "print(\"When slicing with numerical indices:\")\n",
          "print(\"- `.iloc` uses **position-based** indexing and behaves like standard Python list slicing: the start position is inclusive, and the end position is **exclusive**.\")\n",
          "print(\"- `.loc` uses **label-based** indexing: the start label is inclusive, and the end label is **inclusive** as well. This holds true even if your labels are numbers (as in a default `RangeIndex`).\")"
        ]
      },
      {
        "cell_type": "markdown",
        "metadata": {},
        "source": [
          "### Exercise 5: Boolean Indexing and Filtering"
        ]
      },
      {
        "cell_type": "markdown",
        "metadata": {},
        "source": [
          "Using the already created `games_df` and `player_stats_df`:"
        ]
      },
      {
        "cell_type": "markdown",
        "metadata": {},
        "source": [
          "#### Task 1: From `players_df`, find all players who are either 'QB' (Quarterback) or 'RB' (Running Back)."
        ]
      },
      {
        "cell_type": "code",
        "execution_count": null,
        "metadata": {},
        "outputs": [],
        "source": [
          "#Place your code here"
        ]
      },
      {
        "cell_type": "markdown",
        "metadata": {},
        "source": [
          "##### Hint\n",
          "<details>\n",
          "<summary>Click to reveal hint</summary>\n",
          "\n",
          "Use the `.isin()` method for selecting rows where a column's value is in a list of possibilities.\n",
          "</details>"
        ]
      },
      {
        "cell_type": "markdown",
        "metadata": {},
        "source": [
          "##### Solution"
        ]
      },
      {
        "cell_type": "code",
        "execution_count": null,
        "metadata": {},
        "outputs": [],
        "source": [
          "qbs_rbs = players_df[players_df['position'].isin(['QB', 'RB'])]\n",
          "print(\"\\nQBs and RBs:\\n\", qbs_rbs.head())"
        ]
      },
      {
        "cell_type": "markdown",
        "metadata": {},
        "source": [
          "#### Task 2: From `games_df`, select all games from the 2023 season where the home team scored more than 30 points."
        ]
      },
      {
        "cell_type": "code",
        "execution_count": null,
        "metadata": {},
        "outputs": [],
        "source": [
          "#Place your code here"
        ]
      },
      {
        "cell_type": "markdown",
        "metadata": {},
        "source": [
          "##### Hint\n",
          "<details>\n",
          "<summary>Click to reveal hint</summary>\n",
          "\n",
          "Combine multiple conditions using the `&` (AND) operator, enclosing each condition in parentheses.\n",
          "</details>"
        ]
      },
      {
        "cell_type": "markdown",
        "metadata": {},
        "source": [
          "##### Solution"
        ]
      },
      {
        "cell_type": "code",
        "execution_count": null,
        "metadata": {},
        "outputs": [],
        "source": [
          "high_scoring_2023_games = games_df[(games_df['season'] == 2023) & (games_df['home_score'] > 30)]\n",
          "print(\"\\n2023 Games with Home Score > 30:\\n\", high_scoring_2023_games.head())"
        ]
      },
      {
        "cell_type": "markdown",
        "metadata": {},
        "source": [
          "#### Task 3: From `player_stats_df`, find the top 5 players with the most 'passing_yards'."
        ]
      },
      {
        "cell_type": "code",
        "execution_count": null,
        "metadata": {},
        "outputs": [],
        "source": [
          "#Place your code here"
        ]
      },
      {
        "cell_type": "markdown",
        "metadata": {},
        "source": [
          "##### Hint\n",
          "<details>\n",
          "<summary>Click to reveal hint</summary>\n",
          "\n",
          "Use the `.nlargest()` method.\n",
          "</details>"
        ]
      },
      {
        "cell_type": "markdown",
        "metadata": {},
        "source": [
          "##### Solution"
        ]
      },
      {
        "cell_type": "code",
        "execution_count": null,
        "metadata": {},
        "outputs": [],
        "source": [
          "top_5_passers = player_stats_df.nlargest(5, 'passing_yards')\n",
          "print(\"\\nTop 5 Passers (by passing_yards):\\n\", top_5_passers)"
        ]
      },
      {
        "cell_type": "markdown",
        "metadata": {},
        "source": [
          "#### Task 4: From `player_stats_df`, filter for players who had 'rushing_yards' between 50 and 100 (inclusive)."
        ]
      },
      {
        "cell_type": "code",
        "execution_count": null,
        "metadata": {},
        "outputs": [],
        "source": [
          "#Place your code here"
        ]
      },
      {
        "cell_type": "markdown",
        "metadata": {},
        "source": [
          "##### Hint\n",
          "<details>\n",
          "<summary>Click to reveal hint</summary>\n",
          "\n",
          "The `.between()` method is useful for filtering within a range.\n",
          "</details>"
        ]
      },
      {
        "cell_type": "markdown",
        "metadata": {},
        "source": [
          "##### Solution"
        ]
      },
      {
        "cell_type": "code",
        "execution_count": null,
        "metadata": {},
        "outputs": [],
        "source": [
          "mid_range_rushers = player_stats_df[player_stats_df['rushing_yards'].between(50, 100)]\n",
          "print(\"\\nPlayers with Rushing Yards between 50 and 100:\\n\", mid_range_rushers.head())"
        ]
      },
      {
        "cell_type": "markdown",
        "metadata": {},
        "source": [
          "### Exercise 6: Cleaning Data - Handling Missing Values"
        ]
      },
      {
        "cell_type": "markdown",
        "metadata": {},
        "source": [
          "Let's introduce some missing values into a copy of `player_stats_df` to practice cleaning."
        ]
      },
      {
        "cell_type": "code",
        "execution_count": null,
        "metadata": {},
        "outputs": [],
        "source": [
          "stats_with_nans = player_stats_df.copy()\n",
          "np.random.seed(42) # Re-using 42 for this specific data corruption as per previous versions\n",
          "for col in ['passing_yards', 'rushing_yards', 'receiving_yards']:\n",
          "    # Randomly set 10% of values to NaN\n",
          "    nan_indices = np.random.choice(stats_with_nans.index, size=int(len(stats_with_nans) * 0.1), replace=False)\n",
          "    stats_with_nans.loc[nan_indices, col] = np.nan\n",
          "\n",
          "print(\"Stats with NaNs created. Missing values:\")\n",
          "print(stats_with_nans.isnull().sum())"
        ]
      },
      {
        "cell_type": "markdown",
        "metadata": {},
        "source": [
          "#### Task 1: Drop all rows from `stats_with_nans` that contain any missing values. How many rows are left?"
        ]
      },
      {
        "cell_type": "code",
        "execution_count": null,
        "metadata": {},
        "outputs": [],
        "source": [
          "#Place your code here"
        ]
      },
      {
        "cell_type": "markdown",
        "metadata": {},
        "source": [
          "##### Hint\n",
          "<details>\n",
          "<summary>Click to reveal hint</summary>\n",
          "\n",
          "Use the `.dropna()` method.\n",
          "</details>"
        ]
      },
      {
        "cell_type": "markdown",
        "metadata": {},
        "source": [
          "##### Solution"
        ]
      },
      {
        "cell_type": "code",
        "execution_count": null,
        "metadata": {},
        "outputs": [],
        "source": [
          "stats_dropped_nans = stats_with_nans.dropna()\n",
          "print(\"\\nRows remaining after dropping NaNs:\", len(stats_dropped_nans))"
        ]
      },
      {
        "cell_type": "markdown",
        "metadata": {},
        "source": [
          "#### Task 2: Fill missing 'passing_yards' values with 0.0, 'rushing_yards' with the median, and 'receiving_yards' with the mean of their respective columns. Store this in a new DataFrame called `stats_filled`."
        ]
      },
      {
        "cell_type": "code",
        "execution_count": null,
        "metadata": {},
        "outputs": [],
        "source": [
          "#Place your code here"
        ]
      },
      {
        "cell_type": "markdown",
        "metadata": {},
        "source": [
          "##### Hint\n",
          "<details>\n",
          "<summary>Click to reveal hint</summary>\n",
          "\n",
          "Use `.fillna()`. You can pass a single value or a dictionary for different columns. Remember to calculate median/mean for imputation.\n",
          "</details>"
        ]
      },
      {
        "cell_type": "markdown",
        "metadata": {},
        "source": [
          "##### Solution"
        ]
      },
      {
        "cell_type": "code",
        "execution_count": null,
        "metadata": {},
        "outputs": [],
        "source": [
          "stats_filled = stats_with_nans.copy()\n",
          "stats_filled['passing_yards'] = stats_filled['passing_yards'].fillna(0.0)\n",
          "stats_filled['rushing_yards'] = stats_filled['rushing_yards'].fillna(stats_filled['rushing_yards'].median())\n",
          "stats_filled['receiving_yards'] = stats_filled['receiving_yards'].fillna(stats_filled['receiving_yards'].mean())\n",
          "print(\"\\nStats after filling NaNs (first 5 rows):\\n\", stats_filled.head())"
        ]
      },
      {
        "cell_type": "markdown",
        "metadata": {},
        "source": [
          "#### Task 3: Verify that `stats_filled` has no missing values."
        ]
      },
      {
        "cell_type": "code",
        "execution_count": null,
        "metadata": {},
        "outputs": [],
        "source": [
          "#Place your code here"
        ]
      },
      {
        "cell_type": "markdown",
        "metadata": {},
        "source": [
          "##### Hint\n",
          "<details>\n",
          "<summary>Click to reveal hint</summary>\n",
          "\n",
          "Check the sum of null values for each column using `.isnull().sum()`.\n",
          "</details>"
        ]
      },
      {
        "cell_type": "markdown",
        "metadata": {},
        "source": [
          "##### Solution"
        ]
      },
      {
        "cell_type": "code",
        "execution_count": null,
        "metadata": {},
        "outputs": [],
        "source": [
          "print(\"\\nMissing values in stats_filled:\\n\", stats_filled.isnull().sum())"
        ]
      },
      {
        "cell_type": "markdown",
        "metadata": {},
        "source": [
          "### Exercise 7: Data Manipulation - Adding/Updating Columns, Dropping Duplicates"
        ]
      },
      {
        "cell_type": "markdown",
        "metadata": {},
        "source": [
          "Using the `player_stats_df` and `players_df` from the setup. Also, let's create a DataFrame with some duplicates."
        ]
      },
      {
        "cell_type": "code",
        "execution_count": null,
        "metadata": {},
        "outputs": [],
        "source": [
          "duplicate_players_data = {\n",
          "    'player_id': ['P001', 'P002', 'P001', 'P003'],\n",
          "    'name': ['Player 1', 'Player 2', 'Player 1', 'Player 3'],\n",
          "    'team': ['Patriots', 'Chiefs', 'Patriots', 'Eagles'],\n",
          "    'position': ['QB', 'RB', 'QB', 'WR']\n",
          "}\n",
          "duplicate_players_df = pd.DataFrame(duplicate_players_data)\n",
          "print(\"\\nDataFrame with duplicates:\\n\", duplicate_players_df)"
        ]
      },
      {
        "cell_type": "markdown",
        "metadata": {},
        "source": [
          "#### Task 1: From `player_stats_df`, create a new column `total_yards` which is the sum of `passing_yards`, `rushing_yards`, and `receiving_yards`."
        ]
      },
      {
        "cell_type": "code",
        "execution_count": null,
        "metadata": {},
        "outputs": [],
        "source": [
          "#Place your code here"
        ]
      },
      {
        "cell_type": "markdown",
        "metadata": {},
        "source": [
          "##### Hint\n",
          "<details>\n",
          "<summary>Click to reveal hint</summary>\n",
          "\n",
          "You can create a new column by simply assigning the result of an operation on existing columns (e.g., `df['new_col'] = df['col1'] + df['col2']`).\n",
          "</details>"
        ]
      },
      {
        "cell_type": "markdown",
        "metadata": {},
        "source": [
          "##### Solution"
        ]
      },
      {
        "cell_type": "code",
        "execution_count": null,
        "metadata": {},
        "outputs": [],
        "source": [
          "player_stats_df['total_yards'] = player_stats_df['passing_yards'] + player_stats_df['rushing_yards'] + player_stats_df['receiving_yards']\n",
          "print(\"\\nPlayer Stats with 'total_yards':\\n\", player_stats_df.head())"
        ]
      },
      {
        "cell_type": "markdown",
        "metadata": {},
        "source": [
          "#### Task 2: From `players_df`, create a new column `experience_level`. If `draft_year` is before 2018, assign 'Veteran', otherwise 'Rookie/Newcomer'."
        ]
      },
      {
        "cell_type": "code",
        "execution_count": null,
        "metadata": {},
        "outputs": [],
        "source": [
          "#Place your code here"
        ]
      },
      {
        "cell_type": "markdown",
        "metadata": {},
        "source": [
          "##### Hint\n",
          "<details>\n",
          "<summary>Click to reveal hint</summary>\n",
          "\n",
          "Use `np.where(condition, value_if_true, value_if_false)` for conditional assignment.\n",
          "</details>"
        ]
      },
      {
        "cell_type": "markdown",
        "metadata": {},
        "source": [
          "##### Solution"
        ]
      },
      {
        "cell_type": "code",
        "execution_count": null,
        "metadata": {},
        "outputs": [],
        "source": [
          "players_df['experience_level'] = np.where(players_df['draft_year'] < 2018, 'Veteran', 'Rookie/Newcomer')\n",
          "print(\"\\nPlayers with 'experience_level':\\n\", players_df.sample(5))"
        ]
      },
      {
        "cell_type": "markdown",
        "metadata": {},
        "source": [
          "#### Task 3: Remove duplicate rows from `duplicate_players_df` based on `player_id`, keeping the first occurrence."
        ]
      },
      {
        "cell_type": "code",
        "execution_count": null,
        "metadata": {},
        "outputs": [],
        "source": [
          "#Place your code here"
        ]
      },
      {
        "cell_type": "markdown",
        "metadata": {},
        "source": [
          "##### Hint\n",
          "<details>\n",
          "<summary>Click to reveal hint</summary>\n",
          "\n",
          "Use the `.drop_duplicates()` method with the `subset` and `keep` parameters.\n",
          "</details>"
        ]
      },
      {
        "cell_type": "markdown",
        "metadata": {},
        "source": [
          "##### Solution"
        ]
      },
      {
        "cell_type": "code",
        "execution_count": null,
        "metadata": {},
        "outputs": [],
        "source": [
          "unique_players_df = duplicate_players_df.drop_duplicates(subset=['player_id'], keep='first')\n",
          "print(\"\\nDataFrame after removing duplicates:\\n\", unique_players_df)"
        ]
      },
      {
        "cell_type": "markdown",
        "metadata": {},
        "source": [
          "#### Task 4: From `players_df`, change the `team` of all players drafted in 2024 to 'Expansion Team'. Use `.where()` or direct assignment."
        ]
      },
      {
        "cell_type": "code",
        "execution_count": null,
        "metadata": {},
        "outputs": [],
        "source": [
          "#Place your code here"
        ]
      },
      {
        "cell_type": "markdown",
        "metadata": {},
        "source": [
          "##### Hint\n",
          "<details>\n",
          "<summary>Click to reveal hint</summary>\n",
          "\n",
          "Use `df.loc[condition, 'column'] = new_value` for direct boolean assignment.\n",
          "</details>"
        ]
      },
      {
        "cell_type": "markdown",
        "metadata": {},
        "source": [
          "##### Solution"
        ]
      },
      {
        "cell_type": "code",
        "execution_count": null,
        "metadata": {},
        "outputs": [],
        "source": [
          "players_df.loc[players_df['draft_year'] == 2024, 'team'] = 'Expansion Team'\n",
          "print(\"\\nPlayers with 'Expansion Team' (2024 draftees):\\n\", players_df[players_df['draft_year'] == 2024].head())"
        ]
      },
      {
        "cell_type": "markdown",
        "metadata": {},
        "source": [
          "#### Task 5: From `player_stats_df`, replace any instance of `0` in `sacks_made` with `NaN` using `.replace()`."
        ]
      },
      {
        "cell_type": "code",
        "execution_count": null,
        "metadata": {},
        "outputs": [],
        "source": [
          "#Place your code here"
        ]
      },
      {
        "cell_type": "markdown",
        "metadata": {},
        "source": [
          "##### Hint\n",
          "<details>\n",
          "<summary>Click to reveal hint</summary>\n",
          "\n",
          "The `.replace()` method can be used on a Series or DataFrame to substitute values.\n",
          "</details>"
        ]
      },
      {
        "cell_type": "markdown",
        "metadata": {},
        "source": [
          "##### Solution"
        ]
      },
      {
        "cell_type": "code",
        "execution_count": null,
        "metadata": {},
        "outputs": [],
        "source": [
          "player_stats_df['sacks_made'] = player_stats_df['sacks_made'].replace(0, np.nan)\n",
          "print(\"\\nPlayer stats with 0 sacks_made replaced by NaN (sample):\\n\", player_stats_df[player_stats_df['sacks_made'].isnull()].head())"
        ]
      },
      {
        "cell_type": "markdown",
        "metadata": {},
        "source": [
          "### Exercise 8: Data Type Conversion & Concatenation"
        ]
      },
      {
        "cell_type": "markdown",
        "metadata": {},
        "source": [
          "#### Task 1: Create a Pandas Series `player_ratings_raw` with some mixed string and numeric values (e.g., '85', '90', 'N/A', '72', 'injured'). Convert this Series to a numeric type, coercing errors to NaN, and then fill any NaNs with the mean of the valid numbers."
        ]
      },
      {
        "cell_type": "code",
        "execution_count": null,
        "metadata": {},
        "outputs": [],
        "source": [
          "#Place your code here"
        ]
      },
      {
        "cell_type": "markdown",
        "metadata": {},
        "source": [
          "##### Hint\n",
          "<details>\n",
          "<summary>Click to reveal hint</summary>\n",
          "\n",
          "Use `pd.to_numeric(..., errors='coerce')` to convert to numeric, and then `.fillna()` to impute missing values.\n",
          "</details>"
        ]
      },
      {
        "cell_type": "markdown",
        "metadata": {},
        "source": [
          "##### Solution"
        ]
      },
      {
        "cell_type": "code",
        "execution_count": null,
        "metadata": {},
        "outputs": [],
        "source": [
          "player_ratings_raw = pd.Series(['85', '90', 'N/A', '72', 'injured', '95', '60'])\n",
          "player_ratings_numeric = pd.to_numeric(player_ratings_raw, errors='coerce')\n",
          "mean_valid_ratings = player_ratings_numeric.mean()\n",
          "player_ratings_cleaned = player_ratings_numeric.fillna(mean_valid_ratings)\n",
          "print(\"\\nCleaned Player Ratings Series:\\n\", player_ratings_cleaned)"
        ]
      },
      {
        "cell_type": "markdown",
        "metadata": {},
        "source": [
          "#### Task 2: Create two small DataFrames: `df_part1` with `player_id` and `games_played_2023`, and `df_part2` with `player_id` and `games_played_2024`. Vertically concatenate them into a single `all_games_played_df`."
        ]
      },
      {
        "cell_type": "code",
        "execution_count": null,
        "metadata": {},
        "outputs": [],
        "source": [
          "#Place your code here"
        ]
      },
      {
        "cell_type": "markdown",
        "metadata": {},
        "source": [
          "##### Hint\n",
          "<details>\n",
          "<summary>Click to reveal hint</summary>\n",
          "\n",
          "Use `pd.concat()` for vertical concatenation. Remember to set `ignore_index=True` to reset the index of the combined DataFrame.\n",
          "</details>"
        ]
      },
      {
        "cell_type": "markdown",
        "metadata": {},
        "source": [
          "##### Solution"
        ]
      },
      {
        "cell_type": "code",
        "execution_count": null,
        "metadata": {},
        "outputs": [],
        "source": [
          "df_part1 = pd.DataFrame({\n",
          "    'player_id': ['P001', 'P002', 'P003'],\n",
          "    'games_played': [17, 15, 12]\n",
          "})\n",
          "df_part2 = pd.DataFrame({\n",
          "    'player_id': ['P004', 'P001', 'P005'],\n",
          "    'games_played': [16, 17, 10]\n",
          "})\n",
          "all_games_played_df = pd.concat([df_part1, df_part2], ignore_index=True)\n",
          "print(\"\\nConcatenated Games Played DataFrame:\\n\", all_games_played_df)"
        ]
      },
      {
        "cell_type": "markdown",
        "metadata": {},
        "source": [
          "### Exercise 9: String Methods"
        ]
      },
      {
        "cell_type": "markdown",
        "metadata": {},
        "source": [
          "Using `players_df`:"
        ]
      },
      {
        "cell_type": "markdown",
        "metadata": {},
        "source": [
          "#### Task 1: Convert all 'college' names to lowercase."
        ]
      },
      {
        "cell_type": "code",
        "execution_count": null,
        "metadata": {},
        "outputs": [],
        "source": [
          "#Place your code here"
        ]
      },
      {
        "cell_type": "markdown",
        "metadata": {},
        "source": [
          "##### Hint\n",
          "<details>\n",
          "<summary>Click to reveal hint</summary>\n",
          "\n",
          "Use the `.str.lower()` accessor method.\n",
          "</details>"
        ]
      },
      {
        "cell_type": "markdown",
        "metadata": {},
        "source": [
          "##### Solution"
        ]
      },
      {
        "cell_type": "code",
        "execution_count": null,
        "metadata": {},
        "outputs": [],
        "source": [
          "players_df['college_lower'] = players_df['college'].str.lower()\n",
          "print(\"\\nColleges in lowercase (sample):\\n\", players_df[['college', 'college_lower']].sample(5))"
        ]
      },
      {
        "cell_type": "markdown",
        "metadata": {},
        "source": [
          "#### Task 2: Find players whose name starts with 'P'."
        ]
      },
      {
        "cell_type": "code",
        "execution_count": null,
        "metadata": {},
        "outputs": [],
        "source": [
          "#Place your code here"
        ]
      },
      {
        "cell_type": "markdown",
        "metadata": {},
        "source": [
          "##### Hint\n",
          "<details>\n",
          "<summary>Click to reveal hint</summary>\n",
          "\n",
          "Use the `.str.startswith()` method for filtering strings.\n",
          "</details>"
        ]
      },
      {
        "cell_type": "markdown",
        "metadata": {},
        "source": [
          "##### Solution"
        ]
      },
      {
        "cell_type": "code",
        "execution_count": null,
        "metadata": {},
        "outputs": [],
        "source": [
          "players_starting_with_p = players_df[players_df['name'].str.startswith('P')]\n",
          "print(\"\\nPlayers whose name starts with 'P':\\n\", players_starting_with_p.head())"
        ]
      },
      {
        "cell_type": "markdown",
        "metadata": {},
        "source": [
          "#### Task 3: Count how many players have 'State' in their `college` name (case-insensitive)."
        ]
      },
      {
        "cell_type": "code",
        "execution_count": null,
        "metadata": {},
        "outputs": [],
        "source": [
          "#Place your code here"
        ]
      },
      {
        "cell_type": "markdown",
        "metadata": {},
        "source": [
          "##### Hint\n",
          "<details>\n",
          "<summary>Click to reveal hint</summary>\n",
          "\n",
          "Use `.str.contains()` with `case=False` and `na=False` (to handle potential NaN values in the string column) and then `.sum()` on the resulting boolean Series.\n",
          "</details>"
        ]
      },
      {
        "cell_type": "markdown",
        "metadata": {},
        "source": [
          "##### Solution"
        ]
      },
      {
        "cell_type": "code",
        "execution_count": null,
        "metadata": {},
        "outputs": [],
        "source": [
          "state_college_count = players_df['college'].str.contains('State', case=False, na=False).sum()\n",
          "print(\"\\nNumber of players from a 'State' college:\", state_college_count)"
        ]
      },
      {
        "cell_type": "markdown",
        "metadata": {},
        "source": [
          "#### Task 4: Extract the first three characters of each `player_id` to a new column `id_prefix`."
        ]
      },
      {
        "cell_type": "code",
        "execution_count": null,
        "metadata": {},
        "outputs": [],
        "source": [
          "#Place your code here"
        ]
      },
      {
        "cell_type": "markdown",
        "metadata": {},
        "source": [
          "##### Hint\n",
          "<details>\n",
          "<summary>Click to reveal hint</summary>\n",
          "\n",
          "You can use `.str.slice(start, end)` or direct string slicing like `.str[:end]`.\n",
          "</details>"
        ]
      },
      {
        "cell_type": "markdown",
        "metadata": {},
        "source": [
          "##### Solution"
        ]
      },
      {
        "cell_type": "code",
        "execution_count": null,
        "metadata": {},
        "outputs": [],
        "source": [
          "players_df['id_prefix'] = players_df['player_id'].str.slice(0, 3)\n",
          "print(\"\\nPlayers with 'id_prefix' (sample):\\n\", players_df[['player_id', 'id_prefix']].sample(5))"
        ]
      },
      {
        "cell_type": "markdown",
        "metadata": {},
        "source": [
          "#### Task 5: Clean up any leading/trailing whitespace from the 'team' column (though our generated data is clean, practice the method!)."
        ]
      },
      {
        "cell_type": "code",
        "execution_count": null,
        "metadata": {},
        "outputs": [],
        "source": [
          "#Place your code here"
        ]
      },
      {
        "cell_type": "markdown",
        "metadata": {},
        "source": [
          "##### Hint\n",
          "<details>\n",
          "<summary>Click to reveal hint</summary>\n",
          "\n",
          "Use the `.str.strip()` method.\n",
          "</details>"
        ]
      },
      {
        "cell_type": "markdown",
        "metadata": {},
        "source": [
          "##### Solution"
        ]
      },
      {
        "cell_type": "code",
        "execution_count": null,
        "metadata": {},
        "outputs": [],
        "source": [
          "players_df['team_stripped'] = players_df['team'].str.strip()\n",
          "print(\"\\nTeam names after stripping whitespace (sample):\\n\", players_df[['team', 'team_stripped']].sample(5))"
        ]
      },
      {
        "cell_type": "markdown",
        "metadata": {},
        "source": [
          "### Exercise 10: Grouping and Aggregation"
        ]
      },
      {
        "cell_type": "markdown",
        "metadata": {},
        "source": [
          "Using `players_df` and `player_stats_df`."
        ]
      },
      {
        "cell_type": "markdown",
        "metadata": {},
        "source": [
          "#### Task 1: Count the number of players per `position`."
        ]
      },
      {
        "cell_type": "code",
        "execution_count": null,
        "metadata": {},
        "outputs": [],
        "source": [
          "#Place your code here"
        ]
      },
      {
        "cell_type": "markdown",
        "metadata": {},
        "source": [
          "##### Hint\n",
          "<details>\n",
          "<summary>Click to reveal hint</summary>\n",
          "\n",
          "Use `groupby('column').size()` or `groupby('column').count()`.\n",
          "</details>"
        ]
      },
      {
        "cell_type": "markdown",
        "metadata": {},
        "source": [
          "##### Solution"
        ]
      },
      {
        "cell_type": "code",
        "execution_count": null,
        "metadata": {},
        "outputs": [],
        "source": [
          "players_by_position = players_df.groupby('position').size().sort_values(ascending=False)\n",
          "print(\"\\nNumber of players per position:\\n\", players_by_position)"
        ]
      },
      {
        "cell_type": "markdown",
        "metadata": {},
        "source": [
          "#### Task 2: Calculate the average `passing_yards`, `rushing_yards`, and `receiving_yards` for each `position`."
        ]
      },
      {
        "cell_type": "code",
        "execution_count": null,
        "metadata": {},
        "outputs": [],
        "source": [
          "#Place your code here"
        ]
      },
      {
        "cell_type": "markdown",
        "metadata": {},
        "source": [
          "##### Hint\n",
          "<details>\n",
          "<summary>Click to reveal hint</summary>\n",
          "\n",
          "You'll need to merge `player_stats_df` with `players_df` first to get the 'position' for each stat entry. Then use `groupby()` and `.mean()`.\n",
          "</details>"
        ]
      },
      {
        "cell_type": "markdown",
        "metadata": {},
        "source": [
          "##### Solution"
        ]
      },
      {
        "cell_type": "code",
        "execution_count": null,
        "metadata": {},
        "outputs": [],
        "source": [
          "# First, merge player_stats_df with players_df to get position\n",
          "stats_with_position = pd.merge(player_stats_df, players_df[['player_id', 'position']], on='player_id', how='left')\n",
          "avg_yards_per_position = stats_with_position.groupby('position')[['passing_yards', 'rushing_yards', 'receiving_yards']].mean()\n",
          "print(\"\\nAverage yards per position:\\n\", avg_yards_per_position)"
        ]
      },
      {
        "cell_type": "markdown",
        "metadata": {},
        "source": [
          "#### Task 3: Find the total `touchdowns` scored by each `team` (you'll need to combine `players_df` and `player_stats_df`)."
        ]
      },
      {
        "cell_type": "code",
        "execution_count": null,
        "metadata": {},
        "outputs": [],
        "source": [
          "#Place your code here"
        ]
      },
      {
        "cell_type": "markdown",
        "metadata": {},
        "source": [
          "##### Hint\n",
          "<details>\n",
          "<summary>Click to reveal hint</summary>\n",
          "\n",
          "Merge the dataframes to get 'team' and 'touchdowns' together. Then `groupby('team')` and `.sum()` on 'touchdowns'.\n",
          "</details>"
        ]
      },
      {
        "cell_type": "markdown",
        "metadata": {},
        "source": [
          "##### Solution"
        ]
      },
      {
        "cell_type": "code",
        "execution_count": null,
        "metadata": {},
        "outputs": [],
        "source": [
          "stats_with_team = pd.merge(player_stats_df, players_df[['player_id', 'team']], on='player_id', how='left')\n",
          "team_total_touchdowns = stats_with_team.groupby('team')['touchdowns'].sum().sort_values(ascending=False)\n",
          "print(\"\\nTotal touchdowns per team:\\n\", team_total_touchdowns)"
        ]
      },
      {
        "cell_type": "markdown",
        "metadata": {},
        "source": [
          "#### Task 4: For each `team` and `position` combination, find the minimum and maximum `draft_year`."
        ]
      },
      {
        "cell_type": "code",
        "execution_count": null,
        "metadata": {},
        "outputs": [],
        "source": [
          "#Place your code here"
        ]
      },
      {
        "cell_type": "markdown",
        "metadata": {},
        "source": [
          "##### Hint\n",
          "<details>\n",
          "<summary>Click to reveal hint</summary>\n",
          "\n",
          "Group by multiple columns by passing a list to `groupby()`. Then use `.agg()` with a list of aggregation functions like `['min', 'max']`.\n",
          "</details>"
        ]
      },
      {
        "cell_type": "markdown",
        "metadata": {},
        "source": [
          "##### Solution"
        ]
      },
      {
        "cell_type": "code",
        "execution_count": null,
        "metadata": {},
        "outputs": [],
        "source": [
          "min_max_draft_year = players_df.groupby(['team', 'position'])['draft_year'].agg(['min', 'max'])\n",
          "print(\"\\nMin/Max draft year per team and position:\\n\", min_max_draft_year.head())"
        ]
      },
      {
        "cell_type": "markdown",
        "metadata": {},
        "source": [
          "#### Task 5: Using `.agg()`, calculate the total sum of `total_yards` and the count of unique `player_id`s for each `game_id`."
        ]
      },
      {
        "cell_type": "code",
        "execution_count": null,
        "metadata": {},
        "outputs": [],
        "source": [
          "#Place your code here"
        ]
      },
      {
        "cell_type": "markdown",
        "metadata": {},
        "source": [
          "##### Hint\n",
          "<details>\n",
          "<summary>Click to reveal hint</summary>\n",
          "\n",
          "Use `groupby('game_id').agg()` with a dictionary to specify new column names and their respective aggregation functions (`'sum'` for total yards, `'nunique'` for unique player IDs).\n",
          "</details>"
        ]
      },
      {
        "cell_type": "markdown",
        "metadata": {},
        "source": [
          "##### Solution"
        ]
      },
      {
        "cell_type": "code",
        "execution_count": null,
        "metadata": {},
        "outputs": [],
        "source": [
          "game_performance = player_stats_df.groupby('game_id').agg(\n",
          "    total_yards_sum=('total_yards', 'sum'),\n",
          "    unique_players=('player_id', 'nunique')\n",
          ")\n",
          "print(\"\\nTotal yards and unique players per game (using .agg()):\\n\", game_performance.head())"
        ]
      },
      {
        "cell_type": "markdown",
        "metadata": {},
        "source": [
          "### Exercise 11: Merging DataFrames"
        ]
      },
      {
        "cell_type": "markdown",
        "metadata": {},
        "source": [
          "Using `players_df`, `games_df`, and `player_stats_df`."
        ]
      },
      {
        "cell_type": "markdown",
        "metadata": {},
        "source": [
          "#### Task 1: Merge `player_stats_df` with `players_df` to include player `name`, `team`, and `position` in the stats DataFrame. Store it in `full_stats_df`."
        ]
      },
      {
        "cell_type": "code",
        "execution_count": null,
        "metadata": {},
        "outputs": [],
        "source": [
          "#Place your code here"
        ]
      },
      {
        "cell_type": "markdown",
        "metadata": {},
        "source": [
          "##### Hint\n",
          "<details>\n",
          "<summary>Click to reveal hint</summary>\n",
          "\n",
          "Use `pd.merge()` with `on='player_id'` and `how='left'` (or `inner` if you only want players with stats).\n",
          "</details>"
        ]
      },
      {
        "cell_type": "markdown",
        "metadata": {},
        "source": [
          "##### Solution"
        ]
      },
      {
        "cell_type": "code",
        "execution_count": null,
        "metadata": {},
        "outputs": [],
        "source": [
          "full_stats_df = pd.merge(player_stats_df, players_df[['player_id', 'name', 'team', 'position']],\n",
          "                         on='player_id', how='left')\n",
          "print(\"\\nFull Stats DataFrame (first 5 rows):\\n\", full_stats_df.head())"
        ]
      },
      {
        "cell_type": "markdown",
        "metadata": {},
        "source": [
          "#### Task 2: Merge `full_stats_df` with `games_df` to include `home_team`, `away_team`, `home_score`, `away_score`, and `season` information for each player's statistical entry. Store it in `combined_nfl_data`."
        ]
      },
      {
        "cell_type": "code",
        "execution_count": null,
        "metadata": {},
        "outputs": [],
        "source": [
          "#Place your code here"
        ]
      },
      {
        "cell_type": "markdown",
        "metadata": {},
        "source": [
          "##### Hint\n",
          "<details>\n",
          "<summary>Click to reveal hint</summary>\n",
          "\n",
          "Merge `full_stats_df` and `games_df` on `game_id`.\n",
          "</details>"
        ]
      },
      {
        "cell_type": "markdown",
        "metadata": {},
        "source": [
          "##### Solution"
        ]
      },
      {
        "cell_type": "code",
        "execution_count": null,
        "metadata": {},
        "outputs": [],
        "source": [
          "combined_nfl_data = pd.merge(full_stats_df, games_df[['game_id', 'home_team', 'away_team', 'home_score', 'away_score', 'season']],\n",
          "                             on='game_id', how='left')\n",
          "print(\"\\nCombined NFL Data (first 5 rows):\\n\", combined_nfl_data.head())"
        ]
      },
      {
        "cell_type": "markdown",
        "metadata": {},
        "source": [
          "#### Task 3: Perform a **left merge** of `players_df` with `player_stats_df` to see which players have *no* entries in `player_stats_df` (i.e., their `player_id` appears in `players_df` but not in `player_stats_df`). How many such players are there?"
        ]
      },
      {
        "cell_type": "code",
        "execution_count": null,
        "metadata": {},
        "outputs": [],
        "source": [
          "#Place your code here"
        ]
      },
      {
        "cell_type": "markdown",
        "metadata": {},
        "source": [
          "##### Hint\n",
          "<details>\n",
          "<summary>Click to reveal hint</summary>\n",
          "\n",
          "Use a left merge and then check for `NaN` values in a column that was only present in the right DataFrame (e.g., `game_id` from `player_stats_df`).\n",
          "</details>"
        ]
      },
      {
        "cell_type": "markdown",
        "metadata": {},
        "source": [
          "##### Solution"
        ]
      },
      {
        "cell_type": "code",
        "execution_count": null,
        "metadata": {},
        "outputs": [],
        "source": [
          "players_no_stats_merge = pd.merge(players_df, player_stats_df, on='player_id', how='left')\n",
          "players_with_null_stats = players_no_stats_merge[players_no_stats_merge['game_id'].isnull()]\n",
          "num_players_no_stats = len(players_with_null_stats)\n",
          "print(f\"\\nNumber of players with no stats entries: {num_players_no_stats}\")\n",
          "print(\"Sample of players with no stats:\\n\", players_with_null_stats[['player_id', 'name', 'team']].head())"
        ]
      },
      {
        "cell_type": "markdown",
        "metadata": {},
        "source": [
          "### Exercise 12: Advanced Grouping & Aggregation"
        ]
      },
      {
        "cell_type": "markdown",
        "metadata": {},
        "source": [
          "Using `players_df` and `full_stats_df` (which you created by merging in the previous exercise):"
        ]
      },
      {
        "cell_type": "markdown",
        "metadata": {},
        "source": [
          "#### Task 1: Using `players_df`, for each `college`, count the number of players and calculate the average `draft_year`."
        ]
      },
      {
        "cell_type": "code",
        "execution_count": null,
        "metadata": {},
        "outputs": [],
        "source": [
          "#Place your code here"
        ]
      },
      {
        "cell_type": "markdown",
        "metadata": {},
        "source": [
          "##### Hint\n",
          "<details>\n",
          "<summary>Click to reveal hint</summary>\n",
          "\n",
          "Use `groupby('college').agg()` with a dictionary for multiple aggregations (`'size'` for count, `'mean'` for average).\n",
          "</details>"
        ]
      },
      {
        "cell_type": "markdown",
        "metadata": {},
        "source": [
          "##### Solution"
        ]
      },
      {
        "cell_type": "code",
        "execution_count": null,
        "metadata": {},
        "outputs": [],
        "source": [
          "college_summary = players_df.groupby('college').agg(\n",
          "    num_players=('player_id', 'size'),\n",
          "    avg_draft_year=('draft_year', 'mean')\n",
          ").sort_values(by='num_players', ascending=False)\n",
          "print(\"\\nCollege Summary (Number of Players and Average Draft Year):\\n\", college_summary.head())"
        ]
      },
      {
        "cell_type": "markdown",
        "metadata": {},
        "source": [
          "#### Task 2: Using `full_stats_df`, calculate the total `passing_yards` and average `interceptions_thrown` for `QB` players."
        ]
      },
      {
        "cell_type": "code",
        "execution_count": null,
        "metadata": {},
        "outputs": [],
        "source": [
          "#Place your code here"
        ]
      },
      {
        "cell_type": "markdown",
        "metadata": {},
        "source": [
          "##### Hint\n",
          "<details>\n",
          "<summary>Click to reveal hint</summary>\n",
          "\n",
          "First, filter `full_stats_df` to include only 'QB' positions. Then, use `.agg()` to calculate the sum of 'passing_yards' and the mean of 'interceptions_thrown'.\n",
          "</details>"
        ]
      },
      {
        "cell_type": "markdown",
        "metadata": {},
        "source": [
          "##### Solution"
        ]
      },
      {
        "cell_type": "code",
        "execution_count": null,
        "metadata": {},
        "outputs": [],
        "source": [
          "# Ensure full_stats_df is available (from Exercise 11)\n",
          "if 'full_stats_df' not in locals():\n",
          "    full_stats_df = pd.merge(player_stats_df, players_df[['player_id', 'name', 'team', 'position']],\n",
          "                             on='player_id', how='left')\n",
          "\n",
          "qb_stats = full_stats_df[full_stats_df['position'] == 'QB']\n",
          "qb_performance = qb_stats.agg(\n",
          "    total_passing_yards=('passing_yards', 'sum'),\n",
          "    avg_interceptions=('interceptions_thrown', 'mean')\n",
          ")\n",
          "print(\"\\nQB Performance (Total Passing Yards, Avg Interceptions):\\n\", qb_performance)"
        ]
      },
      {
        "cell_type": "markdown",
        "metadata": {},
        "source": [
          "### Exercise 13: Basic Plotting (using Pandas' built-in methods)"
        ]
      },
      {
        "cell_type": "markdown",
        "metadata": {},
        "source": [
          "Using `combined_nfl_data`."
        ]
      },
      {
        "cell_type": "markdown",
        "metadata": {},
        "source": [
          "#### Task 1: Create a histogram of `total_yards` using Pandas' built-in plotting method."
        ]
      },
      {
        "cell_type": "code",
        "execution_count": null,
        "metadata": {},
        "outputs": [],
        "source": [
          "#Place your code here"
        ]
      },
      {
        "cell_type": "markdown",
        "metadata": {},
        "source": [
          "##### Hint\n",
          "<details>\n",
          "<summary>Click to reveal hint</summary>\n",
          "\n",
          "Use `series.hist()` or `dataframe['column'].plot.hist()`.\n",
          "</details>"
        ]
      },
      {
        "cell_type": "markdown",
        "metadata": {},
        "source": [
          "##### Solution"
        ]
      },
      {
        "cell_type": "code",
        "execution_count": null,
        "metadata": {},
        "outputs": [],
        "source": [
          "combined_nfl_data['total_yards'].hist(bins=20, edgecolor='black', figsize=(10, 6))"
        ]
      },
      {
        "cell_type": "markdown",
        "metadata": {},
        "source": [
          "#### Task 2: Create a bar plot showing the total `touchdowns` scored by each `team` using Pandas' built-in plotting method."
        ]
      },
      {
        "cell_type": "code",
        "execution_count": null,
        "metadata": {},
        "outputs": [],
        "source": [
          "#Place your code here"
        ]
      },
      {
        "cell_type": "markdown",
        "metadata": {},
        "source": [
          "##### Hint\n",
          "<details>\n",
          "<summary>Click to reveal hint</summary>\n",
          "\n",
          "First, aggregate the data (e.g., `groupby('team')['touchdowns'].sum()`), then use `.plot.bar()` on the resulting Series.\n",
          "</details>"
        ]
      },
      {
        "cell_type": "markdown",
        "metadata": {},
        "source": [
          "##### Solution"
        ]
      },
      {
        "cell_type": "code",
        "execution_count": null,
        "metadata": {},
        "outputs": [],
        "source": [
          "team_tds = combined_nfl_data.groupby('team')['touchdowns'].sum().sort_values(ascending=False)\n",
          "team_tds.plot.bar(figsize=(12, 7), color='skyblue')"
        ]
      },
      {
        "cell_type": "markdown",
        "metadata": {},
        "source": [
          "#### Task 3: Create a scatter plot showing `passing_yards` vs `receiving_yards` for all players using Pandas' built-in plotting method."
        ]
      },
      {
        "cell_type": "code",
        "execution_count": null,
        "metadata": {},
        "outputs": [],
        "source": [
          "#Place your code here"
        ]
      },
      {
        "cell_type": "markdown",
        "metadata": {},
        "source": [
          "##### Hint\n",
          "<details>\n",
          "<summary>Click to reveal hint</summary>\n",
          "\n",
          "Use `dataframe.plot.scatter(x='col1', y='col2')`.\n",
          "</details>"
        ]
      },
      {
        "cell_type": "markdown",
        "metadata": {},
        "source": [
          "##### Solution"
        ]
      },
      {
        "cell_type": "code",
        "execution_count": null,
        "metadata": {},
        "outputs": [],
        "source": [
          "combined_nfl_data.plot.scatter(x='passing_yards', y='receiving_yards', alpha=0.6, s=50, c='red', figsize=(10, 6))"
        ]
      },
      {
        "cell_type": "markdown",
        "metadata": {},
        "source": [
          "### Exercise 14: Advanced Data Manipulation with Functions"
        ]
      },
      {
        "cell_type": "markdown",
        "metadata": {},
        "source": [
          "Using `combined_nfl_data`."
        ]
      },
      {
        "cell_type": "markdown",
        "metadata": {},
        "source": [
          "#### Task 1: Define a function `get_game_result(row)` that takes a row from `games_df` and returns 'Home Win', 'Away Win', or 'Draw' based on `home_score` and `away_score`. Apply this function to create a new `game_result` column in `games_df`."
        ]
      },
      {
        "cell_type": "code",
        "execution_count": null,
        "metadata": {},
        "outputs": [],
        "source": [
          "#Place your code here"
        ]
      },
      {
        "cell_type": "markdown",
        "metadata": {},
        "source": [
          "##### Hint\n",
          "<details>\n",
          "<summary>Click to reveal hint</summary>\n",
          "\n",
          "Use the `.apply()` method with `axis=1` when your function needs to access multiple columns from a row.\n",
          "</details>"
        ]
      },
      {
        "cell_type": "markdown",
        "metadata": {},
        "source": [
          "##### Solution"
        ]
      },
      {
        "cell_type": "code",
        "execution_count": null,
        "metadata": {},
        "outputs": [],
        "source": [
          "def get_game_result(row):\n",
          "    if row['home_score'] > row['away_score']:\n",
          "        return 'Home Win'\n",
          "    elif row['away_score'] > row['home_score']:\n",
          "        return 'Away Win'\n",
          "    else:\n",
          "        return 'Draw'\n",
          "\n",
          "games_df['game_result'] = games_df.apply(get_game_result, axis=1)\n",
          "print(\"\\nGames DataFrame with 'game_result' (sample):\\n\", games_df[['home_team', 'away_team', 'home_score', 'away_score', 'game_result']].sample(5))"
        ]
      },
      {
        "cell_type": "markdown",
        "metadata": {},
        "source": [
          "#### Task 2: Define a function `assign_player_grade(yards, tds)` that assigns a 'Grade' ('A', 'B', 'C', 'D') based on `total_yards` and `touchdowns`. Apply this function to create a `player_grade` column in `full_stats_df`.\n",
          "    * Grade A: Total yards > 300 AND TDs >= 2\n",
          "    * Grade B: Total yards > 150 OR TDs >= 1\n",
          "    * Grade C: Total yards > 50\n",
          "    * Grade D: Otherwise"
        ]
      },
      {
        "cell_type": "code",
        "execution_count": null,
        "metadata": {},
        "outputs": [],
        "source": [
          "#Place your code here"
        ]
      },
      {
        "cell_type": "markdown",
        "metadata": {},
        "source": [
          "##### Hint\n",
          "<details>\n",
          "<summary>Click to reveal hint</summary>\n",
          "\n",
          "Define a function that takes a row as input and use conditional logic (`if/elif/else`). Apply this function to the DataFrame with `axis=1`.\n",
          "</details>"
        ]
      },
      {
        "cell_type": "markdown",
        "metadata": {},
        "source": [
          "##### Solution"
        ]
      },
      {
        "cell_type": "code",
        "execution_count": null,
        "metadata": {},
        "outputs": [],
        "source": [
          "def assign_player_grade(row):\n",
          "    yards = row['total_yards']\n",
          "    tds = row['touchdowns']\n",
          "\n",
          "    if yards > 300 and tds >= 2:\n",
          "        return 'A'\n",
          "    elif yards > 150 or tds >= 1:\n",
          "        return 'B'\n",
          "    elif yards > 50:\n",
          "        return 'C'\n",
          "    else:\n",
          "        return 'D'\n",
          "\n",
          "full_stats_df['player_grade'] = full_stats_df.apply(assign_player_grade, axis=1)\n",
          "print(\"\\nFull Stats DataFrame with 'player_grade' (sample):\\n\", full_stats_df[['name', 'total_yards', 'touchdowns', 'player_grade']].sample(5))"
        ]
      },
      {
        "cell_type": "markdown",
        "metadata": {},
        "source": [
          "### Exercise 15: Challenge - Beyond the Basics (Finding New Methods)"
        ]
      },
      {
        "cell_type": "markdown",
        "metadata": {},
        "source": [
          "Using `combined_nfl_data`."
        ]
      },
      {
        "cell_type": "markdown",
        "metadata": {},
        "source": [
          "#### Task 1: For each game, identify the player with the highest `total_yards`. Create a DataFrame showing `game_id`, `player_id`, `name`, and `total_yards` for these top performers."
        ]
      },
      {
        "cell_type": "code",
        "execution_count": null,
        "metadata": {},
        "outputs": [],
        "source": [
          "#Place your code here"
        ]
      },
      {
        "cell_type": "markdown",
        "metadata": {},
        "source": [
          "##### Hint\n",
          "<details>\n",
          "<summary>Click to reveal hint</summary>\n",
          "\n",
          "Consider using `groupby('game_id')['total_yards'].idxmax()` to get the index of the row with the maximum total yards within each game. Then use `.loc` to select those specific rows.\n",
          "</details>"
        ]
      },
      {
        "cell_type": "markdown",
        "metadata": {},
        "source": [
          "##### Solution"
        ]
      },
      {
        "cell_type": "code",
        "execution_count": null,
        "metadata": {},
        "outputs": [],
        "source": [
          "# One way: groupby and idxmax\n",
          "idx_max_yards_per_game = combined_nfl_data.groupby('game_id')['total_yards'].idxmax()\n",
          "top_performers_per_game = combined_nfl_data.loc[idx_max_yards_per_game, ['game_id', 'player_id', 'name', 'total_yards']]\n",
          "print(\"\\nTop Performer in Total Yards per Game:\\n\", top_performers_per_game.head())"
        ]
      },
      {
        "cell_type": "markdown",
        "metadata": {},
        "source": [
          "#### Task 2: Calculate the difference in scores between `home_score` and `away_score` for each game. Then, categorize games as 'Close Game' (difference <= 7 points) or 'Blowout' (difference > 7 points). Add this as a `game_type` column to `games_df`."
        ]
      },
      {
        "cell_type": "code",
        "execution_count": null,
        "metadata": {},
        "outputs": [],
        "source": [
          "#Place your code here"
        ]
      },
      {
        "cell_type": "markdown",
        "metadata": {},
        "source": [
          "##### Hint\n",
          "<details>\n",
          "<summary>Click to reveal hint</summary>\n",
          "\n",
          "Use `abs()` for the absolute difference. For conditional assignment, `np.where()` is powerful: `np.where(condition, value_if_true, value_if_false)`.\n",
          "</details>"
        ]
      },
      {
        "cell_type": "markdown",
        "metadata": {},
        "source": [
          "##### Solution"
        ]
      },
      {
        "cell_type": "code",
        "execution_count": null,
        "metadata": {},
        "outputs": [],
        "source": [
          "games_df['score_difference'] = (games_df['home_score'] - games_df['away_score']).abs()\n",
          "games_df['game_type'] = np.where(games_df['score_difference'] <= 7, 'Close Game', 'Blowout')\n",
          "print(\"\\nGames DataFrame with 'score_difference' and 'game_type' (sample):\\n\", games_df[['home_team', 'away_team', 'home_score', 'away_score', 'score_difference', 'game_type']].sample(5))"
        ]
      },
      {
        "cell_type": "markdown",
        "metadata": {},
        "source": [
          "### Exercise 16: Debugging Scenario"
        ]
      },
      {
        "cell_type": "markdown",
        "metadata": {},
        "source": [
          "#### Task 1: You are trying to find the average passing yards for 'QB' position players, but you made a mistake. Debug the following code block and fix it.\n",
          "\n",
          "```python\n",
          "# Original faulty code\n",
          "avg_qb_passing_yards = players_df[players_df['position'] == 'QB']['passing_yards'].mean()\n",
          "print(avg_qb_passing_yards)\n",
          "```\n",
          "**Problem**: The above code will likely give a `KeyError` or an attribute error. Why, and how do you fix it?"
        ]
      },
      {
        "cell_type": "code",
        "execution_count": null,
        "metadata": {},
        "outputs": [],
        "source": [
          "#Place your code here"
        ]
      },
      {
        "cell_type": "markdown",
        "metadata": {},
        "source": [
          "##### Hint\n",
          "<details>\n",
          "<summary>Click to reveal hint</summary>\n",
          "\n",
          "The 'passing_yards' column is in `player_stats_df`, not `players_df`. You need to merge the necessary DataFrames to have both the 'position' and 'passing_yards' in one place to perform the calculation.\n",
          "</details>"
        ]
      },
      {
        "cell_type": "markdown",
        "metadata": {},
        "source": [
          "##### Solution"
        ]
      },
      {
        "cell_type": "code",
        "execution_count": null,
        "metadata": {},
        "outputs": [],
        "source": [
          "# The problem is that 'passing_yards' is in 'player_stats_df', not 'players_df'.\n",
          "# We need to merge the two DataFrames first to have both 'position' and 'passing_yards' in one place.\n",
          "\n",
          "# First, ensure we have the combined stats DataFrame from previous exercises (or re-create it if needed)\n",
          "if 'full_stats_df' not in locals():\n",
          "    full_stats_df = pd.merge(player_stats_df, players_df[['player_id', 'position']], on='player_id', how='left')\n",
          "\n",
          "# Corrected code:\n",
          "avg_qb_passing_yards = full_stats_df[full_stats_df['position'] == 'QB']['passing_yards'].mean()\n",
          "print(f\"Corrected: Average QB Passing Yards: {avg_qb_passing_yards:.2f}\")\n",
          "\n",
          "print(\"\\nExplanation: The original code tried to access 'passing_yards' from `players_df`, which only contains player metadata like name, team, and position. 'passing_yards' is actually in `player_stats_df`. To fix this, we first need to merge `players_df` and `player_stats_df` (or use `full_stats_df` if already merged) to have both position and statistical data together before filtering and calculating the mean.\")"
        ]
      },
      {
        "cell_type": "markdown",
        "metadata": {},
        "source": [
          "## Congratulations!\n",
          "You've completed the Pandas NFL Data Analysis Exercises. You've demonstrated a strong understanding of data loading, exploration, cleaning, manipulation, grouping, merging, and even some basic plotting. Keep practicing to become a Pandas pro!"
        ]
      }
    ],
    "metadata": {
      "kernelspec": {
        "display_name": "Python 3",
        "language": "python",
        "name": "python3"
      },
      "language_info": {
        "codemirror_mode": {
          "name": "ipython",
          "version": 3
        },
        "file_extension": ".py",
        "mimetype": "text/x-python",
        "name": "python",
        "nbconvert_exporter": "python",
        "pygments_lexer": "ipython3",
        "version": "3.9.12"
      }
    },
    "nbformat": 4,
    "nbformat_minor": 4
  }
  